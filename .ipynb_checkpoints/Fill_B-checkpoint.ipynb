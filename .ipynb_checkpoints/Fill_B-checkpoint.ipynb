{
 "cells": [
  {
   "cell_type": "code",
   "execution_count": 24,
   "id": "c551dbc3",
   "metadata": {},
   "outputs": [
    {
     "name": "stdout",
     "output_type": "stream",
     "text": [
      "Collecting https://github.com/boudinfl/pke.git@dc4d5f21e0ffe64c4df93c46146d29d1c522476bNote: you may need to restart the kernel to use updated packages.\n"
     ]
    },
    {
     "name": "stderr",
     "output_type": "stream",
     "text": [
      "  ERROR: HTTP error 404 while getting https://github.com/boudinfl/pke.git@dc4d5f21e0ffe64c4df93c46146d29d1c522476b\n",
      "ERROR: Could not install requirement https://github.com/boudinfl/pke.git@dc4d5f21e0ffe64c4df93c46146d29d1c522476b because of HTTP error 404 Client Error: Not Found for url: https://github.com/boudinfl/pke.git@dc4d5f21e0ffe64c4df93c46146d29d1c522476b for URL https://github.com/boudinfl/pke.git@dc4d5f21e0ffe64c4df93c46146d29d1c522476b\n"
     ]
    },
    {
     "name": "stdout",
     "output_type": "stream",
     "text": [
      "\n"
     ]
    }
   ],
   "source": [
    "pip install git+https://github.com/boudinfl/pke.git"
   ]
  },
  {
   "cell_type": "code",
   "execution_count": 4,
   "id": "813edec5",
   "metadata": {},
   "outputs": [
    {
     "name": "stdout",
     "output_type": "stream",
     "text": [
      "Requirement already satisfied: flashtext in c:\\python310\\lib\\site-packages (2.7)\n"
     ]
    },
    {
     "name": "stderr",
     "output_type": "stream",
     "text": [
      "WARNING: Ignoring invalid distribution -p (c:\\python310\\lib\\site-packages)\n",
      "WARNING: Ignoring invalid distribution -ip (c:\\python310\\lib\\site-packages)\n",
      "WARNING: Ignoring invalid distribution - (c:\\python310\\lib\\site-packages)\n",
      "WARNING: Ignoring invalid distribution -p (c:\\python310\\lib\\site-packages)\n",
      "WARNING: Ignoring invalid distribution -ip (c:\\python310\\lib\\site-packages)\n",
      "WARNING: Ignoring invalid distribution - (c:\\python310\\lib\\site-packages)\n",
      "WARNING: Ignoring invalid distribution -p (c:\\python310\\lib\\site-packages)\n",
      "WARNING: Ignoring invalid distribution -ip (c:\\python310\\lib\\site-packages)\n",
      "WARNING: Ignoring invalid distribution - (c:\\python310\\lib\\site-packages)\n",
      "WARNING: Ignoring invalid distribution -p (c:\\python310\\lib\\site-packages)\n",
      "WARNING: Ignoring invalid distribution -ip (c:\\python310\\lib\\site-packages)\n",
      "WARNING: Ignoring invalid distribution - (c:\\python310\\lib\\site-packages)\n"
     ]
    }
   ],
   "source": [
    "!pip install --user flashtext"
   ]
  },
  {
   "cell_type": "code",
   "execution_count": 8,
   "id": "c067271c",
   "metadata": {},
   "outputs": [],
   "source": [
    "text = \"\"\"There is a lot of volcanic activity at divergent plate boundaries in the oceans. For example, many undersea volcanoes are found along the Mid-Atlantic Ridge. This is a divergent plate boundary that runs north-south through the middle of the Atlantic Ocean. As tectonic plates pull away from each other at a divergent plate boundary, they create deep fissures, or cracks, in the crust. Molten rock, called magma, erupts through these cracks onto Earth’s surface. At the surface, the molten rock is called lava. It cools and hardens, forming rock. Divergent plate boundaries also occur in the continental crust. Volcanoes form at these boundaries, but less often than in ocean crust. That’s because continental crust is thicker than oceanic crust. This makes it more difficult for molten rock to push up through the crust. Many volcanoes form along convergent plate boundaries where one tectonic plate is pulled down beneath another at a subduction zone. The leading edge of the plate melts as it is pulled into the mantle, forming magma that erupts as volcanoes. When a line of volcanoes forms along a subduction zone, they make up a volcanic arc. The edges of the Pacific plate are long subduction zones lined with volcanoes. This is why the Pacific rim is called the “Pacific Ring of Fire.”\"\"\""
   ]
  },
  {
   "cell_type": "code",
   "execution_count": 16,
   "id": "0de080af",
   "metadata": {},
   "outputs": [
    {
     "name": "stderr",
     "output_type": "stream",
     "text": [
      "[nltk_data] Downloading package stopwords to\n",
      "[nltk_data]     C:\\Users\\91810\\AppData\\Roaming\\nltk_data...\n",
      "[nltk_data]   Package stopwords is already up-to-date!\n",
      "[nltk_data] Downloading package wordnet to\n",
      "[nltk_data]     C:\\Users\\91810\\AppData\\Roaming\\nltk_data...\n",
      "[nltk_data]   Package wordnet is already up-to-date!\n",
      "[nltk_data] Downloading package punkt to\n",
      "[nltk_data]     C:\\Users\\91810\\AppData\\Roaming\\nltk_data...\n",
      "[nltk_data]   Package punkt is already up-to-date!\n"
     ]
    }
   ],
   "source": [
    "import json \n",
    "import requests\n",
    "import string\n",
    "import re\n",
    "import nltk\n",
    "import itertools\n",
    "nltk.download('stopwords')\n",
    "nltk.download('wordnet')\n",
    "nltk.download('punkt')\n",
    "from nltk.corpus import stopwords\n",
    "from nltk.corpus import wordnet\n",
    "import traceback\n",
    "from nltk.tokenize import sent_tokenize\n",
    "from flashtext import KeywordProcessor"
   ]
  },
  {
   "cell_type": "code",
   "execution_count": 20,
   "id": "3bdee75d",
   "metadata": {},
   "outputs": [],
   "source": [
    "def tokenize_sentences(text):\n",
    "    sentences = sent_tokenize(text)\n",
    "    sentences = [sentence.strip() for sentence in sentences if(len(sentence) > 20)]\n",
    "    return sentences\n",
    "\n",
    "sentences = tokenize_sentences(text)"
   ]
  },
  {
   "cell_type": "code",
   "execution_count": 21,
   "id": "8c787a7b",
   "metadata": {},
   "outputs": [
    {
     "data": {
      "text/plain": [
       "['There is a lot of volcanic activity at divergent plate boundaries in the oceans.',\n",
       " 'For example, many undersea volcanoes are found along the Mid-Atlantic Ridge.',\n",
       " 'This is a divergent plate boundary that runs north-south through the middle of the Atlantic Ocean.',\n",
       " 'As tectonic plates pull away from each other at a divergent plate boundary, they create deep fissures, or cracks, in the crust.',\n",
       " 'Molten rock, called magma, erupts through these cracks onto Earth’s surface.',\n",
       " 'At the surface, the molten rock is called lava.',\n",
       " 'It cools and hardens, forming rock.',\n",
       " 'Divergent plate boundaries also occur in the continental crust.',\n",
       " 'Volcanoes form at these boundaries, but less often than in ocean crust.',\n",
       " 'That’s because continental crust is thicker than oceanic crust.',\n",
       " 'This makes it more difficult for molten rock to push up through the crust.',\n",
       " 'Many volcanoes form along convergent plate boundaries where one tectonic plate is pulled down beneath another at a subduction zone.',\n",
       " 'The leading edge of the plate melts as it is pulled into the mantle, forming magma that erupts as volcanoes.',\n",
       " 'When a line of volcanoes forms along a subduction zone, they make up a volcanic arc.',\n",
       " 'The edges of the Pacific plate are long subduction zones lined with volcanoes.',\n",
       " 'This is why the Pacific rim is called the “Pacific Ring of Fire.”']"
      ]
     },
     "execution_count": 21,
     "metadata": {},
     "output_type": "execute_result"
    }
   ],
   "source": [
    "sentences"
   ]
  },
  {
   "cell_type": "code",
   "execution_count": 73,
   "id": "a64bbd10",
   "metadata": {},
   "outputs": [
    {
     "name": "stdout",
     "output_type": "stream",
     "text": [
      "keywords:  ['divergent plate boundaries', 'many undersea volcanoes', 'crust', 'molten rock', 'tectonic plates pull', 'called magma', 'oceans', 'example', 'volcanic activity', 'forming rock', 'cracks', 'erupts', 'found', 'subduction zone', 'surface', 'continental crust', 'volcanoes form', 'makes', 'pulled', 'runs', 'lot', 'hardens', 'leading edge', 'create deep fissures', 'cools', 'middle', 'occur', 'volcanoes', 'called lava', 'many volcanoes form']\n"
     ]
    }
   ],
   "source": [
    "def get_noun_adj_verb(text):\n",
    "    out=[]\n",
    "    try:\n",
    "        extractor = pke.unsupervised.MultipartiteRank()\n",
    "        pos = {'VERB', 'ADJ', 'NOUN'}\n",
    "        stoplist = list(string.punctuation)\n",
    "        stoplist += ['-lrb-', '-rrb-', '-lcb-', '-rcb-', '-lsb-', '-rsb-']\n",
    "        stoplist += stopwords.words('english')\n",
    "        extractor.load_document(input=text,stoplist=stoplist)\n",
    "        extractor.candidate_selection(pos=pos)\n",
    "       \n",
    "        extractor.candidate_weighting(alpha=1.1,\n",
    "                                      threshold=0.75,\n",
    "                                      method='average')\n",
    "        keyphrases = extractor.get_n_best(n=30)\n",
    "        \n",
    "\n",
    "        for val in keyphrases:\n",
    "            out.append(val[0])\n",
    "    except:\n",
    "        out = []\n",
    "        traceback.print_exc()\n",
    "\n",
    "    return out\n",
    "\n",
    "noun_verbs_adj = get_noun_adj_verb(text)\n",
    "print (\"keywords: \",noun_verbs_adj)"
   ]
  },
  {
   "cell_type": "code",
   "execution_count": 74,
   "id": "fda8c31a",
   "metadata": {},
   "outputs": [],
   "source": [
    "##Finding questions for above keywords"
   ]
  },
  {
   "cell_type": "code",
   "execution_count": 75,
   "id": "af744306",
   "metadata": {},
   "outputs": [],
   "source": [
    "def get_sentences_from_keyword(keywords,sentences):\n",
    "    keyword_processor = KeywordProcessor()\n",
    "    keyword_sentences = {}\n",
    "    for word in keywords:\n",
    "        keyword_sentences[word]=[]\n",
    "        keyword_processor.add_keyword(word)\n",
    "    for sentence in sentences:\n",
    "        keywords_found = keyword_processor.extract_keywords(sentence)\n",
    "        for key in keywords_found:\n",
    "            keyword_sentences[key].append(sentence)\n",
    "    \n",
    "    for key in keyword_sentences.keys():\n",
    "        values=keyword_sentences[key]\n",
    "        values=sorted(values,key=len,reverse=True)\n",
    "        keyword_sentences[key]=values\n",
    "    return keyword_sentences\n",
    "\n",
    "keywords_sentence_mapping_noun_verbs_adj = get_sentences_from_keyword(noun_verbs_adj,sentences)"
   ]
  },
  {
   "cell_type": "code",
   "execution_count": 76,
   "id": "e8015d6d",
   "metadata": {},
   "outputs": [
    {
     "data": {
      "text/plain": [
       "{'divergent plate boundaries': ['There is a lot of volcanic activity at divergent plate boundaries in the oceans.', 'Divergent plate boundaries also occur in the continental crust.'], 'many undersea volcanoes': ['For example, many undersea volcanoes are found along the Mid-Atlantic Ridge.'], 'crust': ['As tectonic plates pull away from each other at a divergent plate boundary, they create deep fissures, or cracks, in the crust.', 'This makes it more difficult for molten rock to push up through the crust.', 'Volcanoes form at these boundaries, but less often than in ocean crust.', 'That’s because continental crust is thicker than oceanic crust.'], 'molten rock': ['Molten rock, called magma, erupts through these cracks onto Earth’s surface.', 'This makes it more difficult for molten rock to push up through the crust.', 'At the surface, the molten rock is called lava.'], 'tectonic plates pull': ['As tectonic plates pull away from each other at a divergent plate boundary, they create deep fissures, or cracks, in the crust.'], 'called magma': ['Molten rock, called magma, erupts through these cracks onto Earth’s surface.'], 'oceans': ['There is a lot of volcanic activity at divergent plate boundaries in the oceans.'], 'example': ['For example, many undersea volcanoes are found along the Mid-Atlantic Ridge.'], 'volcanic activity': ['There is a lot of volcanic activity at divergent plate boundaries in the oceans.'], 'forming rock': ['It cools and hardens, forming rock.'], 'cracks': ['As tectonic plates pull away from each other at a divergent plate boundary, they create deep fissures, or cracks, in the crust.', 'Molten rock, called magma, erupts through these cracks onto Earth’s surface.'], 'erupts': ['The leading edge of the plate melts as it is pulled into the mantle, forming magma that erupts as volcanoes.', 'Molten rock, called magma, erupts through these cracks onto Earth’s surface.'], 'found': ['For example, many undersea volcanoes are found along the Mid-Atlantic Ridge.'], 'subduction zone': ['Many volcanoes form along convergent plate boundaries where one tectonic plate is pulled down beneath another at a subduction zone.', 'When a line of volcanoes forms along a subduction zone, they make up a volcanic arc.'], 'surface': ['Molten rock, called magma, erupts through these cracks onto Earth’s surface.', 'At the surface, the molten rock is called lava.'], 'continental crust': ['Divergent plate boundaries also occur in the continental crust.', 'That’s because continental crust is thicker than oceanic crust.'], 'volcanoes form': ['Volcanoes form at these boundaries, but less often than in ocean crust.'], 'makes': ['This makes it more difficult for molten rock to push up through the crust.'], 'pulled': ['Many volcanoes form along convergent plate boundaries where one tectonic plate is pulled down beneath another at a subduction zone.', 'The leading edge of the plate melts as it is pulled into the mantle, forming magma that erupts as volcanoes.'], 'runs': ['This is a divergent plate boundary that runs north-south through the middle of the Atlantic Ocean.'], 'lot': ['There is a lot of volcanic activity at divergent plate boundaries in the oceans.'], 'hardens': ['It cools and hardens, forming rock.'], 'leading edge': ['The leading edge of the plate melts as it is pulled into the mantle, forming magma that erupts as volcanoes.'], 'create deep fissures': ['As tectonic plates pull away from each other at a divergent plate boundary, they create deep fissures, or cracks, in the crust.'], 'cools': ['It cools and hardens, forming rock.'], 'middle': ['This is a divergent plate boundary that runs north-south through the middle of the Atlantic Ocean.'], 'occur': ['Divergent plate boundaries also occur in the continental crust.'], 'volcanoes': ['The leading edge of the plate melts as it is pulled into the mantle, forming magma that erupts as volcanoes.', 'When a line of volcanoes forms along a subduction zone, they make up a volcanic arc.', 'The edges of the Pacific plate are long subduction zones lined with volcanoes.'], 'called lava': ['At the surface, the molten rock is called lava.'], 'many volcanoes form': ['Many volcanoes form along convergent plate boundaries where one tectonic plate is pulled down beneath another at a subduction zone.']}"
      ]
     },
     "execution_count": 76,
     "metadata": {},
     "output_type": "execute_result"
    }
   ],
   "source": [
    "keywords_sentence_mapping_noun_verbs_adj"
   ]
  },
  {
   "cell_type": "code",
   "execution_count": 77,
   "id": "83925f69",
   "metadata": {},
   "outputs": [
    {
     "name": "stdout",
     "output_type": "stream",
     "text": [
      "{'title': 'Fill in the blanks for these sentences with matching words at the top', 'sentences': ['There is a lot of volcanic activity at  _________  in the oceans.', 'For example,  _________  are found along the Mid-Atlantic Ridge.', 'As tectonic plates pull away from each other at a divergent plate boundary, they create deep fissures, or cracks, in the  _________ .', ' _________ , called magma, erupts through these cracks onto Earth’s surface.', 'It cools and hardens,  _________ .', 'The leading edge of the plate melts as it is pulled into the mantle, forming magma that  _________  as volcanoes.', 'Many volcanoes form along convergent plate boundaries where one tectonic plate is pulled down beneath another at a  _________ .', 'Divergent plate boundaries also occur in the  _________ .', ' _________  at these boundaries, but less often than in ocean crust.', 'This  _________  it more difficult for molten rock to push up through the crust.'], 'keys': ['divergent plate boundaries', 'many undersea volcanoes', 'crust', 'molten rock', 'forming rock', 'erupts', 'subduction zone', 'continental crust', 'volcanoes form', 'makes']}\n"
     ]
    }
   ],
   "source": [
    "def get_fill_in_the_blanks(sentence_mapping):\n",
    "    out={\"title\":\"Fill in the blanks for these sentences with matching words at the top\"}\n",
    "    blank_sentences = []\n",
    "    processed = []\n",
    "    keys=[]\n",
    "    for key in sentence_mapping:\n",
    "        if len(sentence_mapping[key])>0:\n",
    "            sent = sentence_mapping[key][0]\n",
    "            insensitive_sent = re.compile(re.escape(key), re.IGNORECASE)\n",
    "            no_of_replacements =  len(re.findall(re.escape(key),sent,re.IGNORECASE))\n",
    "            line = insensitive_sent.sub(' _________ ', sent)\n",
    "            if (sentence_mapping[key][0] not in processed) and no_of_replacements<2:\n",
    "                blank_sentences.append(line)\n",
    "                processed.append(sentence_mapping[key][0])\n",
    "                keys.append(key)\n",
    "    out[\"sentences\"]=blank_sentences[:10]\n",
    "    out[\"keys\"]=keys[:10]\n",
    "    return out\n",
    "\n",
    "\n",
    "fill_in_the_blanks = get_fill_in_the_blanks(keywords_sentence_mapping_noun_verbs_adj)\n",
    "print(fill_in_the_blanks)"
   ]
  },
  {
   "cell_type": "code",
   "execution_count": 78,
   "id": "1e797192",
   "metadata": {},
   "outputs": [],
   "source": [
    "import pke"
   ]
  },
  {
   "cell_type": "code",
   "execution_count": 79,
   "id": "6d9f3405",
   "metadata": {},
   "outputs": [
    {
     "data": {
      "text/plain": [
       "'There is a lot of volcanic activity at divergent plate boundaries in the oceans. For example, many undersea volcanoes are found along the Mid-Atlantic Ridge. This is a divergent plate boundary that runs north-south through the middle of the Atlantic Ocean. As tectonic plates pull away from each other at a divergent plate boundary, they create deep fissures, or cracks, in the crust. Molten rock, called magma, erupts through these cracks onto Earth’s surface. At the surface, the molten rock is called lava. It cools and hardens, forming rock. Divergent plate boundaries also occur in the continental crust. Volcanoes form at these boundaries, but less often than in ocean crust. That’s because continental crust is thicker than oceanic crust. This makes it more difficult for molten rock to push up through the crust. Many volcanoes form along convergent plate boundaries where one tectonic plate is pulled down beneath another at a subduction zone. The leading edge of the plate melts as it is pulled into the mantle, forming magma that erupts as volcanoes. When a line of volcanoes forms along a subduction zone, they make up a volcanic arc. The edges of the Pacific plate are long subduction zones lined with volcanoes. This is why the Pacific rim is called the “Pacific Ring of Fire.”'"
      ]
     },
     "execution_count": 79,
     "metadata": {},
     "output_type": "execute_result"
    }
   ],
   "source": [
    "text"
   ]
  },
  {
   "cell_type": "code",
   "execution_count": null,
   "id": "96fa51cb",
   "metadata": {},
   "outputs": [],
   "source": []
  },
  {
   "cell_type": "code",
   "execution_count": 81,
   "id": "4702eafb",
   "metadata": {},
   "outputs": [
    {
     "name": "stdout",
     "output_type": "stream",
     "text": [
      "Collecting flask\n",
      "  Downloading Flask-2.1.2-py3-none-any.whl (95 kB)\n",
      "     -------------------------------------- 95.2/95.2 KB 904.2 kB/s eta 0:00:00\n",
      "Requirement already satisfied: Werkzeug>=2.0 in c:\\users\\91810\\appdata\\local\\programs\\python\\python39\\lib\\site-packages (from flask) (2.1.2)\n",
      "Requirement already satisfied: Jinja2>=3.0 in c:\\users\\91810\\appdata\\local\\programs\\python\\python39\\lib\\site-packages (from flask) (3.0.2)\n",
      "Requirement already satisfied: importlib-metadata>=3.6.0 in c:\\users\\91810\\appdata\\local\\programs\\python\\python39\\lib\\site-packages (from flask) (4.11.3)\n",
      "Collecting itsdangerous>=2.0\n",
      "  Downloading itsdangerous-2.1.2-py3-none-any.whl (15 kB)\n",
      "Collecting click>=8.0\n",
      "  Downloading click-8.1.3-py3-none-any.whl (96 kB)\n",
      "     ---------------------------------------- 96.6/96.6 KB 5.8 MB/s eta 0:00:00\n",
      "Requirement already satisfied: colorama in c:\\users\\91810\\appdata\\local\\programs\\python\\python39\\lib\\site-packages (from click>=8.0->flask) (0.4.4)\n",
      "Requirement already satisfied: zipp>=0.5 in c:\\users\\91810\\appdata\\local\\programs\\python\\python39\\lib\\site-packages (from importlib-metadata>=3.6.0->flask) (3.8.0)\n",
      "Requirement already satisfied: MarkupSafe>=2.0 in c:\\users\\91810\\appdata\\local\\programs\\python\\python39\\lib\\site-packages (from Jinja2>=3.0->flask) (2.0.1)\n",
      "Installing collected packages: itsdangerous, click, flask\n",
      "  Attempting uninstall: click\n",
      "    Found existing installation: click 7.1.2\n",
      "    Uninstalling click-7.1.2:\n",
      "      Successfully uninstalled click-7.1.2\n",
      "Successfully installed click-8.1.3 flask-2.1.2 itsdangerous-2.1.2\n",
      "Note: you may need to restart the kernel to use updated packages.\n"
     ]
    },
    {
     "name": "stderr",
     "output_type": "stream",
     "text": [
      "ERROR: pip's dependency resolver does not currently take into account all the packages that are installed. This behaviour is the source of the following dependency conflicts.\n",
      "typer 0.3.2 requires click<7.2.0,>=7.1.1, but you have click 8.1.3 which is incompatible.\n",
      "allennlp 2.2.0 requires spacy<3.1,>=2.1.0, but you have spacy 3.3.0 which is incompatible.\n",
      "streamlit 1.9.0 requires click<8.1,>=7.0, but you have click 8.1.3 which is incompatible.\n"
     ]
    }
   ],
   "source": [
    "pip install flask"
   ]
  },
  {
   "cell_type": "code",
   "execution_count": 80,
   "id": "f9fc224d",
   "metadata": {},
   "outputs": [
    {
     "name": "stdout",
     "output_type": "stream",
     "text": [
      "Collecting pywhatkit\n",
      "  Downloading pywhatkit-5.3-py3-none-any.whl (15 kB)\n",
      "Collecting wikipedia\n",
      "  Using cached wikipedia-1.4.0.tar.gz (27 kB)\n",
      "  Preparing metadata (setup.py): started\n",
      "  Preparing metadata (setup.py): finished with status 'done'\n",
      "Requirement already satisfied: requests in c:\\users\\91810\\appdata\\local\\programs\\python\\python39\\lib\\site-packages (from pywhatkit) (2.27.1)\n",
      "Requirement already satisfied: Pillow in c:\\users\\91810\\appdata\\local\\programs\\python\\python39\\lib\\site-packages (from pywhatkit) (8.4.0)\n",
      "Collecting pyautogui\n",
      "  Using cached PyAutoGUI-0.9.53.tar.gz (59 kB)\n",
      "  Preparing metadata (setup.py): started\n",
      "  Preparing metadata (setup.py): finished with status 'done'\n",
      "Collecting pymsgbox\n",
      "  Using cached PyMsgBox-1.0.9.tar.gz (18 kB)\n",
      "  Installing build dependencies: started\n",
      "  Installing build dependencies: finished with status 'done'\n",
      "  Getting requirements to build wheel: started\n",
      "  Getting requirements to build wheel: finished with status 'done'\n",
      "  Preparing metadata (pyproject.toml): started\n",
      "  Preparing metadata (pyproject.toml): finished with status 'done'\n",
      "Collecting PyTweening>=1.0.1\n",
      "  Using cached pytweening-1.0.4.tar.gz (14 kB)\n",
      "  Preparing metadata (setup.py): started\n",
      "  Preparing metadata (setup.py): finished with status 'done'\n",
      "Collecting pyscreeze>=0.1.21\n",
      "  Using cached PyScreeze-0.1.28.tar.gz (25 kB)\n",
      "  Installing build dependencies: started\n",
      "  Installing build dependencies: finished with status 'done'\n",
      "  Getting requirements to build wheel: started\n",
      "  Getting requirements to build wheel: finished with status 'done'\n",
      "  Preparing metadata (pyproject.toml): started\n",
      "  Preparing metadata (pyproject.toml): finished with status 'done'\n",
      "Collecting pygetwindow>=0.0.5\n",
      "  Using cached PyGetWindow-0.0.9.tar.gz (9.7 kB)\n",
      "  Preparing metadata (setup.py): started\n",
      "  Preparing metadata (setup.py): finished with status 'done'\n",
      "Collecting mouseinfo\n",
      "  Using cached MouseInfo-0.1.3.tar.gz (10 kB)\n",
      "  Preparing metadata (setup.py): started\n",
      "  Preparing metadata (setup.py): finished with status 'done'\n",
      "Requirement already satisfied: idna<4,>=2.5 in c:\\users\\91810\\appdata\\local\\programs\\python\\python39\\lib\\site-packages (from requests->pywhatkit) (3.3)\n",
      "Requirement already satisfied: charset-normalizer~=2.0.0 in c:\\users\\91810\\appdata\\local\\programs\\python\\python39\\lib\\site-packages (from requests->pywhatkit) (2.0.10)\n",
      "Requirement already satisfied: certifi>=2017.4.17 in c:\\users\\91810\\appdata\\local\\programs\\python\\python39\\lib\\site-packages (from requests->pywhatkit) (2021.10.8)\n",
      "Requirement already satisfied: urllib3<1.27,>=1.21.1 in c:\\users\\91810\\appdata\\local\\programs\\python\\python39\\lib\\site-packages (from requests->pywhatkit) (1.25.11)\n",
      "Collecting beautifulsoup4\n",
      "  Using cached beautifulsoup4-4.11.1-py3-none-any.whl (128 kB)\n",
      "Collecting pyrect\n",
      "  Downloading PyRect-0.2.0.tar.gz (17 kB)\n",
      "  Preparing metadata (setup.py): started\n",
      "  Preparing metadata (setup.py): finished with status 'done'\n",
      "Collecting soupsieve>1.2\n",
      "  Using cached soupsieve-2.3.2.post1-py3-none-any.whl (37 kB)\n",
      "Collecting pyperclip\n",
      "  Using cached pyperclip-1.8.2.tar.gz (20 kB)\n",
      "  Preparing metadata (setup.py): started\n",
      "  Preparing metadata (setup.py): finished with status 'done'\n",
      "Building wheels for collected packages: pyautogui, wikipedia, pygetwindow, pyscreeze, PyTweening, mouseinfo, pymsgbox, pyperclip, pyrect\n",
      "  Building wheel for pyautogui (setup.py): started\n",
      "  Building wheel for pyautogui (setup.py): finished with status 'done'\n",
      "  Created wheel for pyautogui: filename=PyAutoGUI-0.9.53-py3-none-any.whl size=36584 sha256=b93d2d9bc5782d7a07713aa67ba5692876fd32146a05a935c888ac308fe28017\n",
      "  Stored in directory: c:\\users\\91810\\appdata\\local\\pip\\cache\\wheels\\d8\\97\\e4\\d2edca92a87d3b5fbfb527264750a17b4ba297b9a7cab6e67f\n",
      "  Building wheel for wikipedia (setup.py): started\n",
      "  Building wheel for wikipedia (setup.py): finished with status 'done'Note: you may need to restart the kernel to use updated packages.\n",
      "  Created wheel for wikipedia: filename=wikipedia-1.4.0-py3-none-any.whl size=11685 sha256=aa624a07fc35c860b155b45ee23d4483445a0d38292653b219d9b5d283d38b17\n",
      "  Stored in directory: c:\\users\\91810\\appdata\\local\\pip\\cache\\wheels\\c2\\46\\f4\\caa1bee71096d7b0cdca2f2a2af45cacf35c5760bee8f00948\n",
      "  Building wheel for pygetwindow (setup.py): started\n",
      "  Building wheel for pygetwindow (setup.py): finished with status 'done'\n",
      "  Created wheel for pygetwindow: filename=PyGetWindow-0.0.9-py3-none-any.whl size=11081 sha256=e708e6085cbec634df21d4c51c7b68f88f7218428cb04ed981046d69ccbb7d10\n",
      "  Stored in directory: c:\\users\\91810\\appdata\\local\\pip\\cache\\wheels\\44\\ab\\20\\423c3a444793767e4e41f8377bc902f77bee212e68dcce85a5\n",
      "  Building wheel for pyscreeze (pyproject.toml): started\n",
      "  Building wheel for pyscreeze (pyproject.toml): finished with status 'done'\n",
      "  Created wheel for pyscreeze: filename=PyScreeze-0.1.28-py3-none-any.whl size=13021 sha256=acb0a331efe62c2a895225f03e238244a68d0a6b4f25e58988909b6876a33279\n",
      "\n",
      "  Stored in directory: c:\\users\\91810\\appdata\\local\\pip\\cache\\wheels\\a2\\5b\\86\\99f1d8fac5d92de0ccb3f0d4ad15e3f4278baf75a9b0f20b93\n",
      "  Building wheel for PyTweening (setup.py): started\n",
      "  Building wheel for PyTweening (setup.py): finished with status 'done'\n",
      "  Created wheel for PyTweening: filename=pytweening-1.0.4-py3-none-any.whl size=5825 sha256=5c1eee19b9ef5656cd989e7437fd05fd673ee557b719b2950464dcdff56592e2\n",
      "  Stored in directory: c:\\users\\91810\\appdata\\local\\pip\\cache\\wheels\\a4\\5d\\d2\\ba4c8f82163233ffaadcf383c1e34d7d92635d357d13e7b78d\n",
      "  Building wheel for mouseinfo (setup.py): started\n",
      "  Building wheel for mouseinfo (setup.py): finished with status 'done'\n",
      "  Created wheel for mouseinfo: filename=MouseInfo-0.1.3-py3-none-any.whl size=10906 sha256=f42002b118a036c469a8c654994d73e1694954983bb12705e0d286e2b8a5b5c3\n",
      "  Stored in directory: c:\\users\\91810\\appdata\\local\\pip\\cache\\wheels\\61\\73\\b9\\6fb1131ab36e650206e3aa0ad7a68907b41b32ac2d4f75f543\n",
      "  Building wheel for pymsgbox (pyproject.toml): started\n",
      "  Building wheel for pymsgbox (pyproject.toml): finished with status 'done'\n",
      "  Created wheel for pymsgbox: filename=PyMsgBox-1.0.9-py3-none-any.whl size=7420 sha256=0be65dbe0e8c87f083e883dec6593535c59b53c6535b5642d9585612165d512e\n",
      "  Stored in directory: c:\\users\\91810\\appdata\\local\\pip\\cache\\wheels\\7f\\13\\8c\\584c519464297d9637f9cd29fd1dcdf55e2a2cab225c76a2db\n",
      "  Building wheel for pyperclip (setup.py): started\n",
      "  Building wheel for pyperclip (setup.py): finished with status 'done'\n",
      "  Created wheel for pyperclip: filename=pyperclip-1.8.2-py3-none-any.whl size=11107 sha256=8aaac955a03fa174086e456a0c51ede678c01fe0c28d2eceed03691924b9b6ff\n",
      "  Stored in directory: c:\\users\\91810\\appdata\\local\\pip\\cache\\wheels\\0c\\09\\9e\\49e21a6840ef7955b06d47394afef0058f0378c0914e48b8b8\n",
      "  Building wheel for pyrect (setup.py): started\n",
      "  Building wheel for pyrect (setup.py): finished with status 'done'\n",
      "  Created wheel for pyrect: filename=PyRect-0.2.0-py2.py3-none-any.whl size=11166 sha256=e796127f130820127db1470865171882d946bc6cc3d5e4e269c18bbd33930529\n",
      "  Stored in directory: c:\\users\\91810\\appdata\\local\\pip\\cache\\wheels\\25\\80\\fa\\27bb4a1c2e21f64ec71390489d52e57b7cc8afbe79bd595c5e\n",
      "Successfully built pyautogui wikipedia pygetwindow pyscreeze PyTweening mouseinfo pymsgbox pyperclip pyrect\n",
      "Installing collected packages: PyTweening, pyscreeze, pyrect, pyperclip, pymsgbox, soupsieve, pygetwindow, mouseinfo, pyautogui, beautifulsoup4, wikipedia, pywhatkit\n",
      "Successfully installed PyTweening-1.0.4 beautifulsoup4-4.11.1 mouseinfo-0.1.3 pyautogui-0.9.53 pygetwindow-0.0.9 pymsgbox-1.0.9 pyperclip-1.8.2 pyrect-0.2.0 pyscreeze-0.1.28 pywhatkit-5.3 soupsieve-2.3.2.post1 wikipedia-1.4.0\n"
     ]
    }
   ],
   "source": [
    "pip install pywhatkit"
   ]
  },
  {
   "cell_type": "code",
   "execution_count": null,
   "id": "5ea9ee6f",
   "metadata": {},
   "outputs": [],
   "source": []
  }
 ],
 "metadata": {
  "kernelspec": {
   "display_name": "Python 3 (ipykernel)",
   "language": "python",
   "name": "python3"
  },
  "language_info": {
   "codemirror_mode": {
    "name": "ipython",
    "version": 3
   },
   "file_extension": ".py",
   "mimetype": "text/x-python",
   "name": "python",
   "nbconvert_exporter": "python",
   "pygments_lexer": "ipython3",
   "version": "3.9.6"
  }
 },
 "nbformat": 4,
 "nbformat_minor": 5
}
