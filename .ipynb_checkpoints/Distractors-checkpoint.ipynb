{
 "cells": [
  {
   "cell_type": "code",
   "execution_count": 2,
   "id": "df0bb5fd",
   "metadata": {},
   "outputs": [
    {
     "name": "stderr",
     "output_type": "stream",
     "text": [
      "[nltk_data] Downloading package wordnet to\n",
      "[nltk_data]     C:\\Users\\91810\\AppData\\Roaming\\nltk_data...\n",
      "[nltk_data]   Package wordnet is already up-to-date!\n"
     ]
    }
   ],
   "source": [
    "import nltk\n",
    "\n",
    "nltk.download('wordnet')\n",
    "\n",
    "from nltk.corpus import wordnet as wn"
   ]
  },
  {
   "cell_type": "code",
   "execution_count": 3,
   "id": "70630f43",
   "metadata": {},
   "outputs": [
    {
     "name": "stdout",
     "output_type": "stream",
     "text": [
      "Synset('nile.n.01')  :  the world's longest river (4150 miles); flows northward through eastern Africa into the Mediterranean; the Nile River valley in Egypt was the site of the world's first great civilization\n"
     ]
    }
   ],
   "source": [
    "word = \"nile\"\n",
    "word = word.lower()\n",
    "syns = wn.synsets(word)\n",
    "\n",
    "for syn in syns:\n",
    "    print(syn,\" : \",syn.definition())"
   ]
  },
  {
   "cell_type": "code",
   "execution_count": 4,
   "id": "0020296c",
   "metadata": {},
   "outputs": [
    {
     "name": "stdout",
     "output_type": "stream",
     "text": [
      "Synset('bat.n.01')  :  nocturnal mouselike mammal with forelimbs modified to form membranous wings and anatomical adaptations for echolocation by which they navigate\n",
      "Synset('bat.n.02')  :  (baseball) a turn trying to get a hit\n",
      "Synset('squash_racket.n.01')  :  a small racket with a long handle used for playing squash\n",
      "Synset('cricket_bat.n.01')  :  the club used in playing cricket\n",
      "Synset('bat.n.05')  :  a club used for hitting a ball in various games\n",
      "Synset('bat.v.01')  :  strike with, or as if with a baseball bat\n",
      "Synset('bat.v.02')  :  wink briefly\n",
      "Synset('bat.v.03')  :  have a turn at bat\n",
      "Synset('bat.v.04')  :  use a bat\n",
      "Synset('cream.v.02')  :  beat thoroughly and conclusively in a competition or fight\n"
     ]
    }
   ],
   "source": [
    "word = \"bat\" ##We are extracting verb senses\n",
    "word = word.lower()\n",
    "syns = wn.synsets(word)\n",
    "\n",
    "for syn in syns:\n",
    "    print(syn,\" : \",syn.definition())"
   ]
  },
  {
   "cell_type": "code",
   "execution_count": 5,
   "id": "436ec2a3",
   "metadata": {},
   "outputs": [
    {
     "name": "stdout",
     "output_type": "stream",
     "text": [
      "Synset('bat.n.01')  :  nocturnal mouselike mammal with forelimbs modified to form membranous wings and anatomical adaptations for echolocation by which they navigate\n",
      "Synset('bat.n.02')  :  (baseball) a turn trying to get a hit\n",
      "Synset('squash_racket.n.01')  :  a small racket with a long handle used for playing squash\n",
      "Synset('cricket_bat.n.01')  :  the club used in playing cricket\n",
      "Synset('bat.n.05')  :  a club used for hitting a ball in various games\n"
     ]
    }
   ],
   "source": [
    "word = \"bat\"\n",
    "word = word.lower()\n",
    "syns = wn.synsets(word,'n') #Only Nouns\n",
    "\n",
    "for syn in syns:\n",
    "    print(syn,\" : \",syn.definition())"
   ]
  },
  {
   "cell_type": "code",
   "execution_count": 6,
   "id": "f4177ec4",
   "metadata": {},
   "outputs": [],
   "source": [
    "## Get Hyponyms\n",
    "word = \"lion\"\n",
    "word = word.lower()\n",
    "syns = wn.synsets(word,'n')\n",
    "\n",
    "hypernym = syns[0].hypernyms()\n",
    "hyponym = hypernym[0].hyponyms()"
   ]
  },
  {
   "cell_type": "code",
   "execution_count": 7,
   "id": "d8f1c5a0",
   "metadata": {},
   "outputs": [
    {
     "data": {
      "text/plain": [
       "(Synset('lion.n.01'),\n",
       " [Synset('big_cat.n.01')],\n",
       " [Synset('cheetah.n.01'),\n",
       "  Synset('jaguar.n.01'),\n",
       "  Synset('leopard.n.02'),\n",
       "  Synset('liger.n.01'),\n",
       "  Synset('lion.n.01'),\n",
       "  Synset('saber-toothed_tiger.n.01'),\n",
       "  Synset('snow_leopard.n.01'),\n",
       "  Synset('tiger.n.02'),\n",
       "  Synset('tiglon.n.01')])"
      ]
     },
     "execution_count": 7,
     "metadata": {},
     "output_type": "execute_result"
    }
   ],
   "source": [
    "syns[0],hypernym , hyponym"
   ]
  },
  {
   "cell_type": "code",
   "execution_count": 8,
   "id": "c3544ba9",
   "metadata": {},
   "outputs": [],
   "source": [
    "## Get Distractor\n",
    "\n",
    "def get_distractors_wordnet(syn,word):\n",
    "    distractors = []\n",
    "    word = word.lower()\n",
    "    orig_word = word\n",
    "    if len(word.split()) > 0:\n",
    "        word = word.replace(\" \",\"_\")\n",
    "    hypernym = syn.hypernyms()\n",
    "    if len(hypernym) == 0:\n",
    "        return distractors\n",
    "    for item in hypernym[0].hyponyms():\n",
    "        name = item.lemmas()[0].name()\n",
    "        if name == orig_word:\n",
    "            continue    \n",
    "        name = name.replace(\"_\",\" \")\n",
    "        name = \" \".join(w.capitalize() for w in name.split())\n",
    "        if name is not None and name not in distractors:\n",
    "            distractors.append(name)\n",
    "    \n",
    "    return distractors\n",
    "\n",
    "original_word = \"Field Hockey\"\n",
    "if len(original_word.split()) > 0:\n",
    "        original_word = original_word.replace(\" \",\"_\")\n",
    "synset_use = wn.synsets(original_word,'n')[0]\n",
    "distractors_calculated = get_distractors_wordnet(synset_use,original_word)"
   ]
  },
  {
   "cell_type": "code",
   "execution_count": 9,
   "id": "cdb2b756",
   "metadata": {},
   "outputs": [
    {
     "data": {
      "text/plain": [
       "['Ball Game',\n",
       " 'Cricket',\n",
       " 'Football',\n",
       " 'Hurling',\n",
       " 'Lacrosse',\n",
       " 'Polo',\n",
       " 'Pushball',\n",
       " 'Ultimate Frisbee']"
      ]
     },
     "execution_count": 9,
     "metadata": {},
     "output_type": "execute_result"
    }
   ],
   "source": [
    "distractors_calculated"
   ]
  },
  {
   "cell_type": "code",
   "execution_count": 10,
   "id": "277cb988",
   "metadata": {},
   "outputs": [
    {
     "data": {
      "text/plain": [
       "Synset('field_hockey.n.01')"
      ]
     },
     "execution_count": 10,
     "metadata": {},
     "output_type": "execute_result"
    }
   ],
   "source": [
    "synset_use"
   ]
  },
  {
   "cell_type": "code",
   "execution_count": null,
   "id": "adbb6ab4",
   "metadata": {},
   "outputs": [],
   "source": []
  },
  {
   "cell_type": "code",
   "execution_count": 9,
   "id": "ca097e7a",
   "metadata": {},
   "outputs": [],
   "source": [
    "## Concept Net"
   ]
  },
  {
   "cell_type": "code",
   "execution_count": 10,
   "id": "a3938ff7",
   "metadata": {},
   "outputs": [],
   "source": [
    "import requests\n",
    "import json\n",
    "import re\n",
    "import random\n",
    "import pprint\n"
   ]
  },
  {
   "cell_type": "code",
   "execution_count": 15,
   "id": "0191902a",
   "metadata": {},
   "outputs": [],
   "source": [
    "#word = \"California\"\n",
    "#word = word.lower()\n",
    "#if (len(word.split()))> 0:\n",
    "#    word = word.replace(\" \",\"_\")\n",
    "#    \n",
    "#url = \"http://api.conceptnet.io.query?node=/c/en/%s/n&rel=/r/PartOf&start=/c/en/%s&limit=5\"%(word,word)\n",
    "#\n",
    "#obj = requests.get(url).json()\n",
    "#\n",
    "#pprint.pprint(obj)"
   ]
  },
  {
   "cell_type": "code",
   "execution_count": null,
   "id": "598cca56",
   "metadata": {},
   "outputs": [],
   "source": []
  },
  {
   "cell_type": "code",
   "execution_count": 17,
   "id": "ec68907c",
   "metadata": {},
   "outputs": [],
   "source": [
    "# WordVec (Sense2vec)"
   ]
  },
  {
   "cell_type": "code",
   "execution_count": 21,
   "id": "47e3c996",
   "metadata": {},
   "outputs": [
    {
     "name": "stderr",
     "output_type": "stream",
     "text": [
      "'wget' is not recognized as an internal or external command,\n",
      "operable program or batch file.\n"
     ]
    }
   ],
   "source": [
    "!wget https://github.com/explosion/sense2vec/releases/download/v1.0.0/s2v_reddit_2015_md.tar.g"
   ]
  },
  {
   "cell_type": "code",
   "execution_count": 25,
   "id": "a54cc5f1",
   "metadata": {},
   "outputs": [],
   "source": [
    "from sense2vec import Sense2Vec"
   ]
  },
  {
   "cell_type": "code",
   "execution_count": 32,
   "id": "eb429e62",
   "metadata": {},
   "outputs": [],
   "source": [
    "s2v = Sense2Vec().from_disk('s2v_old')"
   ]
  },
  {
   "cell_type": "code",
   "execution_count": 49,
   "id": "522579b2",
   "metadata": {},
   "outputs": [
    {
     "name": "stdout",
     "output_type": "stream",
     "text": [
      "word usa\n",
      "Best Sense USA|GPE\n",
      "[('USA.|ORG', 0.9604), ('U.S|GPE', 0.9439), ('U.S.|GPE', 0.9222), ('US.|ORG', 0.9106), ('US.|NOUN', 0.9004), ('US|GPE', 0.8961), ('America|GPE', 0.8941), ('USA.|NOUN', 0.8934), ('Canada|GPE', 0.8928), ('U.S.A|GPE', 0.8886), ('US.|GPE', 0.8795), ('United_states|NOUN', 0.8785)]\n"
     ]
    }
   ],
   "source": [
    "word = \"USA\"\n",
    "word = word.lower()\n",
    "word = word.replace(\" \",\"_\")\n",
    "\n",
    "print(\"word\",word)\n",
    "\n",
    "sense = s2v.get_best_sense(word)\n",
    "\n",
    "print(\"Best Sense\",sense)\n",
    "most_similar = s2v.most_similar(sense,n=12)\n",
    "\n",
    "print(most_similar)"
   ]
  },
  {
   "cell_type": "code",
   "execution_count": 50,
   "id": "25b0db33",
   "metadata": {},
   "outputs": [
    {
     "data": {
      "text/plain": [
       "['Usa.',\n",
       " 'U.s',\n",
       " 'U.s.',\n",
       " 'Us.',\n",
       " 'Us.',\n",
       " 'Us',\n",
       " 'America',\n",
       " 'Usa.',\n",
       " 'Canada',\n",
       " 'U.s.a',\n",
       " 'Us.',\n",
       " 'United states']"
      ]
     },
     "execution_count": 50,
     "metadata": {},
     "output_type": "execute_result"
    }
   ],
   "source": [
    "distractors=[]\n",
    "\n",
    "for each_word in most_similar:\n",
    "    append_word = each_word[0].split(\"|\")[0].replace(\"_\",\" \").lower()\n",
    "    if append_word.lower()!=word:\n",
    "        distractors.append(append_word.capitalize())\n",
    "\n",
    "distractors"
   ]
  },
  {
   "cell_type": "code",
   "execution_count": 55,
   "id": "91dcfec6",
   "metadata": {},
   "outputs": [],
   "source": [
    "## Filter Distractors"
   ]
  },
  {
   "cell_type": "code",
   "execution_count": null,
   "id": "add5ffda",
   "metadata": {},
   "outputs": [],
   "source": [
    "import string\n",
    "\n",
    "def editd(word):\n",
    "    \n"
   ]
  },
  {
   "cell_type": "code",
   "execution_count": null,
   "id": "9616fd9e",
   "metadata": {},
   "outputs": [],
   "source": []
  }
 ],
 "metadata": {
  "kernelspec": {
   "display_name": "Python 3 (ipykernel)",
   "language": "python",
   "name": "python3"
  },
  "language_info": {
   "codemirror_mode": {
    "name": "ipython",
    "version": 3
   },
   "file_extension": ".py",
   "mimetype": "text/x-python",
   "name": "python",
   "nbconvert_exporter": "python",
   "pygments_lexer": "ipython3",
   "version": "3.9.6"
  }
 },
 "nbformat": 4,
 "nbformat_minor": 5
}
